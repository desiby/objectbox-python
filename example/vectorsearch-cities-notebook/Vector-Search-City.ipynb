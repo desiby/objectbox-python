{
  "nbformat": 4,
  "nbformat_minor": 0,
  "metadata": {
    "colab": {
      "provenance": [],
      "collapsed_sections": [
        "ZBNxYvPOs2Gq"
      ]
    },
    "kernelspec": {
      "name": "python3",
      "display_name": "Python 3"
    },
    "language_info": {
      "name": "python"
    }
  },
  "cells": [
    {
      "cell_type": "markdown",
      "source": [
        "# ObjectBox 4.0 Python City Example\n",
        "\n",
        "This Jupyter Notebook demonstrates ObjectBox 4.0 using City data.\n",
        "\n",
        "*   Create the data model class, and the database\n",
        "*   Insert data\n",
        "*   Create a simple query\n",
        "*   Create a nearest neighbor vector search\n",
        "\n",
        "For more information on the 4.0 release and details on this first on-device vector database and its possibilities see our [blog post](https://objectbox.io/the-first-on-device-vector-database-objectbox-4-0).\n"
      ],
      "metadata": {
        "id": "i9isobkArR76"
      }
    },
    {
      "cell_type": "markdown",
      "source": [
        "## First, install the latest version of ObjectBox"
      ],
      "metadata": {
        "id": "9BvKIodbnIl4"
      }
    },
    {
      "cell_type": "code",
      "execution_count": 1,
      "metadata": {
        "id": "TrEe2BAP1FIn",
        "colab": {
          "base_uri": "https://localhost:8080/"
        },
        "outputId": "cb6651af-f915-407e-989a-f44bdf7842a6",
        "collapsed": true
      },
      "outputs": [
        {
          "output_type": "stream",
          "name": "stdout",
          "text": [
            "Requirement already satisfied: objectbox in /usr/local/lib/python3.10/dist-packages (4.0.0a5)\n",
            "Requirement already satisfied: flatbuffers==24.3.25 in /usr/local/lib/python3.10/dist-packages (from objectbox) (24.3.25)\n",
            "Requirement already satisfied: numpy in /usr/local/lib/python3.10/dist-packages (from objectbox) (1.25.2)\n"
          ]
        }
      ],
      "source": [
        "!pip install --upgrade objectbox"
      ]
    },
    {
      "cell_type": "markdown",
      "source": [
        "## Create the ObjectBox data model\n",
        "\n",
        "We define a `City` class with its properties (name and location and an ID).\n",
        "\n",
        "*Note:* The `HnswIndex` is a special index for vectors that enables high-performance vector search."
      ],
      "metadata": {
        "id": "m47QyjcsrbQO"
      }
    },
    {
      "cell_type": "code",
      "source": [
        "from objectbox import Entity, Float32Vector, HnswIndex, Id, Store, String\n",
        "\n",
        "@Entity()\n",
        "class City:\n",
        "    id = Id()\n",
        "    name = String()\n",
        "    location = Float32Vector(index=HnswIndex(dimensions=2))"
      ],
      "metadata": {
        "id": "MW_kVFC1iDpH"
      },
      "execution_count": 2,
      "outputs": []
    },
    {
      "cell_type": "markdown",
      "source": [
        "## Create the ObjectBox `Store` and `Box`\n",
        "\n",
        "The `Store` is a database instance. From the `Strore` we prepare a `Box` to interact with `City` objects:"
      ],
      "metadata": {
        "id": "5tpAvePQrkBO"
      }
    },
    {
      "cell_type": "code",
      "source": [
        "store = Store()\n",
        "box = store.box(City)"
      ],
      "metadata": {
        "id": "IKp3F4pikWCQ"
      },
      "execution_count": 3,
      "outputs": []
    },
    {
      "cell_type": "markdown",
      "source": [
        "## A list of capital cities (no database interaction yet)"
      ],
      "metadata": {
        "id": "ZBNxYvPOs2Gq"
      }
    },
    {
      "cell_type": "code",
      "source": [
        "def city(name, lat, lon):\n",
        "    return City(name=name, location=[lat,lon])\n",
        "\n",
        "cities = [\n",
        "    city(\"Abuja\", 9.0765, 7.3986),\n",
        "    city(\"Accra\", 5.6037, -0.1870),\n",
        "    city(\"Addis Ababa\", 9.0084, 38.7813),\n",
        "    city(\"Algiers\", 36.7529, 3.0420),\n",
        "    city(\"Amman\", 31.9632, 35.9306),\n",
        "    city(\"Amsterdam\", 52.3667, 4.8945),\n",
        "    city(\"Ankara\", 39.9334, 32.8597),\n",
        "    city(\"Antananarivo\", -18.8792, 47.5079),\n",
        "    city(\"Apia\", -13.8330, -171.7667),\n",
        "    city(\"Ashgabat\", 37.9601, 58.3261),\n",
        "    city(\"Asmara\", 15.3229, 38.9251),\n",
        "    city(\"Astana\", 51.1796, 71.4475),\n",
        "    city(\"Asunción\", -25.2637, -57.5759),\n",
        "    city(\"Athens\", 37.9795, 23.7162),\n",
        "    city(\"Avarua\", -21.2079, -159.7750),\n",
        "    city(\"Baghdad\", 33.3152, 44.3661),\n",
        "    city(\"Baku\", 40.4093, 49.8671),\n",
        "    city(\"Bamako\", 12.6530, -7.9864),\n",
        "    city(\"Bandar Seri Begawan\", 4.9031, 114.9398),\n",
        "    city(\"Bangkok\", 13.7563, 100.5018),\n",
        "    city(\"Bangui\", 4.3947, 18.5582),\n",
        "    city(\"Banjul\", 13.4549, -16.5790),\n",
        "    city(\"Basseterre\", 17.3026, -62.7177),\n",
        "    city(\"Beijing\", 39.9042, 116.4074),\n",
        "    city(\"Beirut\", 33.8889, 35.4944),\n",
        "    city(\"Belgrade\", 44.7866, 20.4489),\n",
        "    city(\"Belmopan\", 17.2510, -88.7590),\n",
        "    city(\"Berlin\", 52.5200, 13.4050),\n",
        "    city(\"Bern\", 46.9480, 7.4474),\n",
        "    city(\"Bishkek\", 42.8746, 74.5698),\n",
        "    city(\"Bissau\", 11.8636, -15.5842),\n",
        "    city(\"Bogotá\", 4.7109, -74.0721),\n",
        "    city(\"Brasília\", -15.8267, -47.9218),\n",
        "    city(\"Bratislava\", 48.1486, 17.1077),\n",
        "    city(\"Brazzaville\", -4.2634, 15.2429),\n",
        "    city(\"Bridgetown\", 13.1132, -59.5988),\n",
        "    city(\"Brussels\", 50.8503, 4.3517),\n",
        "    city(\"Bucharest\", 44.4268, 26.1025),\n",
        "    city(\"Budapest\", 47.4979, 19.0402),\n",
        "    city(\"Buenos Aires\", -34.6037, -58.3816),\n",
        "    city(\"Bujumbura\", -3.3818, 29.3622),\n",
        "    city(\"Cairo\", 30.0444, 31.2357),\n",
        "    city(\"Canberra\", -35.2809, 149.1300),\n",
        "    city(\"Caracas\", 10.4806, -66.9036),\n",
        "    city(\"Castries\", 14.0101, -60.9874),\n",
        "    city(\"Chisinau\", 47.0105, 28.8638),\n",
        "    city(\"Colombo\", 6.9271, 79.8612),\n",
        "    city(\"Conakry\", 9.6412, -13.5784),\n",
        "    city(\"Copenhagen\", 55.6761, 12.5683),\n",
        "    city(\"Dakar\", 14.7167, -17.4677),\n",
        "    city(\"Damascus\", 33.5131, 36.2919),\n",
        "    city(\"Dhaka\", 23.8103, 90.4125),\n",
        "    city(\"Dili\", -8.5569, 125.5603),\n",
        "    city(\"Djibouti\", 11.5890, 43.1456),\n",
        "    city(\"Dodoma\", -6.1748, 35.7469),\n",
        "    city(\"Doha\", 25.2854, 51.5310),\n",
        "    city(\"Dublin\", 53.3498, -6.2603),\n",
        "    city(\"Dushanbe\", 38.5868, 68.7841),\n",
        "    city(\"Freetown\", 8.4840, -13.2299),\n",
        "    city(\"Funafuti\", -8.5210, 179.1962),\n",
        "    city(\"Gaborone\", -24.6282, 25.9231),\n",
        "    city(\"Georgetown\", 6.8013, -58.1550),\n",
        "    city(\"Gibraltar\", 36.1408, -5.3536),\n",
        "    city(\"Guatemala City\", 14.6349, -90.5069),\n",
        "    city(\"Hanoi\", 21.0278, 105.8342),\n",
        "    city(\"Harare\", -17.8252, 31.0335),\n",
        "    city(\"Havana\", 23.1136, -82.3666),\n",
        "    city(\"Helsinki\", 60.1699, 24.9384),\n",
        "    city(\"Honiara\", -9.4376, 159.9720),\n",
        "    city(\"Islamabad\", 33.6844, 73.0479),\n",
        "    city(\"Jakarta\", -6.2088, 106.8456),\n",
        "    city(\"Juba\", 4.8594, 31.5713),\n",
        "    city(\"Kabul\", 34.5553, 69.2075),\n",
        "    city(\"Kampala\", 0.3476, 32.5825),\n",
        "    city(\"Kathmandu\", 27.7172, 85.3240),\n",
        "    city(\"Khartoum\", 15.5007, 32.5599),\n",
        "    city(\"Kiev\", 50.4501, 30.5234),\n",
        "    city(\"Kigali\", -1.9441, 30.0619),\n",
        "    city(\"Kingston\", 17.9710, -76.7924),\n",
        "    city(\"Kingstown\", 13.1467, -61.2121),\n",
        "    city(\"Kinshasa\", -4.4419, 15.2663),\n",
        "    city(\"Kuala Lumpur\", 3.1390, 101.6869),\n",
        "    city(\"Kuwait City\", 29.3759, 47.9774),\n",
        "    city(\"La Paz\", -16.4897, -68.1193),\n",
        "    city(\"Libreville\", 0.4162, 9.4673),\n",
        "    city(\"Lilongwe\", -13.9626, 33.7741),\n",
        "    city(\"Lima\", -12.0464, -77.0428),\n",
        "    city(\"Lisbon\", 38.7223, -9.1393),\n",
        "    city(\"Ljubljana\", 46.0569, 14.5058),\n",
        "    city(\"Lomé\", 6.1319, 1.2228),\n",
        "    city(\"London\", 51.5072, -0.1276),\n",
        "    city(\"Luanda\", -8.8399, 13.2894),\n",
        "    city(\"Lusaka\", -15.3875, 28.3228),\n",
        "    city(\"Luxembourg City\", 49.6116, 6.1319),\n",
        "    city(\"Madrid\", 40.4168, -3.7038),\n",
        "    city(\"Majuro\", 7.1164, 171.1859),\n",
        "    city(\"Malabo\", 3.7508, 8.7839),\n",
        "    city(\"Male\", 4.1755, 73.5093),\n",
        "    city(\"Mamoudzou\", -12.7871, 45.2750),\n",
        "    city(\"Managua\", 12.1364, -86.2514),\n",
        "    city(\"Manama\", 26.2285, 50.5860),\n",
        "    city(\"Manila\", 14.5995, 120.9842),\n",
        "    city(\"Maputo\", -25.8918, 32.6051),\n",
        "    city(\"Maseru\", -29.2976, 27.4854),\n",
        "    city(\"Mbabane\", -26.3054, 31.1367),\n",
        "    city(\"Melekeok\", 7.4874, 134.6265),\n",
        "    city(\"Mexico City\", 19.4326, -99.1332),\n",
        "    city(\"Minsk\", 53.9045, 27.5615),\n",
        "    city(\"Mogadishu\", 2.0469, 45.3182),\n",
        "    city(\"Monaco\", 43.7325, 7.4189),\n",
        "    city(\"Monrovia\", 6.3005, -10.7974),\n",
        "    city(\"Montevideo\", -34.9011, -56.1645),\n",
        "    city(\"Moroni\", -11.7022, 43.2551),\n",
        "    city(\"Moscow\", 55.7558, 37.6173),\n",
        "    city(\"Muscat\", 23.5859, 58.4059),\n",
        "    city(\"Nairobi\", -1.2921, 36.8219),\n",
        "    city(\"Nassau\", 25.0478, -77.3554),\n",
        "    city(\"Naypyidaw\", 19.7633, 96.0785),\n",
        "    city(\"New Delhi\", 28.6139, 77.2090),\n",
        "    city(\"Ngerulmud\", 7.5004, 134.6249),\n",
        "    city(\"Niamey\", 13.5122, 2.1254),\n",
        "    city(\"Nicosia\", 35.1725, 33.365),\n",
        "    city(\"Nicosia Northern Cyprus\", 35.19, 33.363611),\n",
        "    city(\"Nouakchott\", 18.0735, -15.9582),\n",
        "    city(\"Nuku'alofa\", -21.1393, -175.2049),\n",
        "    city(\"Nuuk\", 64.1836, -51.7214),\n",
        "    city(\"Oranjestad\", 12.5092, -70.0086),\n",
        "    city(\"Oslo\", 59.9139, 10.7522),\n",
        "    city(\"Ottawa\", 45.4215, -75.6972),\n",
        "    city(\"Ouagadougou\", 12.3714, -1.5197),\n",
        "    city(\"Pago Pago\", -14.2794, -170.7004),\n",
        "    city(\"Palikir\", 6.9248, 158.1614),\n",
        "    city(\"Panama City\", 8.9824, -79.5199),\n",
        "    city(\"Papeete\", -17.5350, -149.5699),\n",
        "    city(\"Paramaribo\", 5.8520, -55.2038),\n",
        "    city(\"Paris\", 48.8566, 2.3522),\n",
        "    city(\"Philipsburg\", 18.0255, -63.0450),\n",
        "    city(\"Phnom Penh\", 11.5564, 104.9282),\n",
        "    city(\"Plymouth\", 16.7056, -62.2126),\n",
        "    city(\"Podgorica\", 42.4304, 19.2594),\n",
        "    city(\"Port Louis\", -20.1619, 57.4989),\n",
        "    city(\"Port Moresby\", -9.4438, 147.1803),\n",
        "    city(\"Port Vila\", -17.7416, 168.3213),\n",
        "    city(\"Port-au-Prince\", 18.5944, -72.3074),\n",
        "    city(\"Port of Spain\", 10.6596, -61.4789),\n",
        "    city(\"Porto-Novo\", 6.4968, 2.6283),\n",
        "    city(\"Prague\", 50.0755, 14.4378),\n",
        "    city(\"Praia\", 14.9195, -23.5087),\n",
        "    city(\"Pretoria\", -25.7463, 28.1876),\n",
        "    city(\"Pristina\", 42.6629, 21.1655),\n",
        "    city(\"Pyongyang\", 39.0392, 125.7625),\n",
        "    city(\"Quito\", -0.1807, -78.4678),\n",
        "    city(\"Rabat\", 33.9693, -6.9275),\n",
        "    city(\"Reykjavik\", 64.1466, -21.9426),\n",
        "    city(\"Riga\", 56.9496, 24.1052),\n",
        "    city(\"Riyadh\", 24.7136, 46.6753),\n",
        "    city(\"Road Town\", 18.4207, -64.6399),\n",
        "    city(\"Rome\", 41.9028, 12.4964),\n",
        "    city(\"Roseau\", 15.3092, -61.3794),\n",
        "    city(\"Saipan\", 15.1833, 145.7500),\n",
        "    city(\"San José\", 9.9281, -84.0907),\n",
        "    city(\"San Juan\", 18.4655, -66.1057),\n",
        "    city(\"San Marino\", 43.9424, 12.4578),\n",
        "    city(\"San Salvador\", 13.6929, -89.2182),\n",
        "    city(\"Sana'a\", 15.3694, 44.1910),\n",
        "    city(\"Santiago\", -33.4489, -70.6693),\n",
        "    city(\"Santo Domingo\", 18.4861, -69.9312),\n",
        "    city(\"Sarajevo\", 43.8564, 18.4131),\n",
        "    city(\"Seoul\", 37.5665, 126.9780),\n",
        "    city(\"Singapore\", 1.3521, 103.8198),\n",
        "    city(\"Skopje\", 41.9973, 21.4279),\n",
        "    city(\"Sofia\", 42.6975, 23.3241),\n",
        "    city(\"Sri Jayawardenepura Kotte\", 6.8928, 79.9277),\n",
        "    city(\"St. George's\", 12.0561, -61.7485),\n",
        "    city(\"St. Helier\", 49.1839, -2.1064),\n",
        "    city(\"St. John's\", 17.1171, -61.8456),\n",
        "    city(\"St. Peter Port\", 49.4599, -2.5352),\n",
        "    city(\"Stanley\", -51.7020, -57.8517),\n",
        "    city(\"Stockholm\", 59.3293, 18.0686),\n",
        "    city(\"Sucre\", -19.0421, -65.2559),\n",
        "    city(\"Sukhumi\", 43.0004, 41.0234),\n",
        "    city(\"Suva\", -18.1416, 178.4419),\n",
        "    city(\"Taipei\", 25.0330, 121.5654),\n",
        "    city(\"Tallinn\", 59.4370, 24.7536),\n",
        "    city(\"Tarawa\", 1.4170, 173.0000),\n",
        "    city(\"Tashkent\", 41.2995, 69.2401),\n",
        "    city(\"Tbilisi\", 41.7151, 44.8271),\n",
        "    city(\"Tegucigalpa\", 14.0818, -87.2068),\n",
        "    city(\"Tehran\", 35.6892, 51.3890),\n",
        "    city(\"Thimphu\", 27.4728, 89.6390),\n",
        "    city(\"Tirana\", 41.3275, 19.8187),\n",
        "    city(\"Tokyo\", 35.6762, 139.6503),\n",
        "    city(\"Tripoli\", 32.8867, 13.1910),\n",
        "    city(\"Tunis\", 36.8065, 10.1815),\n",
        "    city(\"Ulaanbaatar\", 47.8864, 106.9057),\n",
        "    city(\"Vaduz\", 47.1410, 9.5215),\n",
        "    city(\"Valletta\", 35.9042, 14.5189),\n",
        "    city(\"Vatican City\", 41.9029, 12.4534),\n",
        "    city(\"Victoria\", -4.6182, 55.4515),\n",
        "    city(\"Vienna\", 48.2082, 16.3738),\n",
        "    city(\"Vientiane\", 17.9757, 102.6331),\n",
        "    city(\"Vilnius\", 54.6872, 25.2797),\n",
        "    city(\"Warsaw\", 52.2297, 21.0122),\n",
        "    city(\"Washington, D.C.\", 38.9072, -77.0369),\n",
        "    city(\"Wellington\", -41.2865, 174.7762),\n",
        "    city(\"West Island\", -12.1880, 96.8292),\n",
        "    city(\"Willemstad\", 12.1091, -68.9319),\n",
        "    city(\"Windhoek\", -22.5749, 17.0805),\n",
        "    city(\"Yamoussoukro\", 6.8276, -5.2893),\n",
        "    city(\"Yaoundé\", 3.8480, 11.5021),\n",
        "    city(\"Yaren\", -0.5467, 166.9209),\n",
        "    city(\"Yerevan\", 40.1872, 44.5152),\n",
        "    city(\"Zagreb\", 45.8150, 15.9819)\n",
        "]\n",
        "\n"
      ],
      "metadata": {
        "id": "71uGkBVIs4K4"
      },
      "execution_count": 4,
      "outputs": []
    },
    {
      "cell_type": "markdown",
      "source": [
        "## Put `City` objects into the Database\n",
        "\n",
        "Now, that we have our list of City object, we can `put` them in the database. Note that we also call `remove_all()` to make this step repeatable:\n"
      ],
      "metadata": {
        "id": "V0cnHX58rtTt"
      }
    },
    {
      "cell_type": "code",
      "source": [
        "box.remove_all()  # Remove previous data (if any) to avoid duplicates\n",
        "box.put(*cities)\n",
        "print(\"Cities in the database:\", box.count())"
      ],
      "metadata": {
        "id": "j97ubc-Rpuwr",
        "colab": {
          "base_uri": "https://localhost:8080/"
        },
        "outputId": "0eaf962c-e249-443f-8d5a-70a6369bf664"
      },
      "execution_count": 5,
      "outputs": [
        {
          "output_type": "stream",
          "name": "stdout",
          "text": [
            "Cities in the database: 213\n"
          ]
        }
      ]
    },
    {
      "cell_type": "markdown",
      "source": [
        "## A simple Query\n",
        "\n",
        "To demonstrate a simple query, let's list all Cities starting with \"Be\":"
      ],
      "metadata": {
        "id": "ilqsxtyquYj_"
      }
    },
    {
      "cell_type": "code",
      "source": [
        "query = box.query(City.name.starts_with(\"Be\")).build()\n",
        "results = query.find()\n",
        "print(f\"Found {len(results)} objects\")\n",
        "for city in results:\n",
        "  print(f\"{city.name:>10s} {city.location}\")\n"
      ],
      "metadata": {
        "colab": {
          "base_uri": "https://localhost:8080/"
        },
        "id": "QPUFiOJruftx",
        "outputId": "46843958-14a8-4a61-a3f7-6219493c15a1"
      },
      "execution_count": 6,
      "outputs": [
        {
          "output_type": "stream",
          "name": "stdout",
          "text": [
            "Found 6 objects\n",
            "   Beijing [ 39.9042 116.4074]\n",
            "    Beirut [33.8889 35.4944]\n",
            "  Belgrade [44.7866 20.4489]\n",
            "  Belmopan [ 17.251 -88.759]\n",
            "    Berlin [52.52  13.405]\n",
            "      Bern [46.948   7.4474]\n"
          ]
        }
      ]
    },
    {
      "cell_type": "markdown",
      "source": [
        "##Nearest-neighbor Vector Search\n",
        "\n",
        "OK, now let's perform a *nearest-neighbor* search! List the 15 nearest cities closest to a given query location:"
      ],
      "metadata": {
        "id": "jSAXKDSrrz0e"
      }
    },
    {
      "cell_type": "code",
      "source": [
        "query_location = [51.0, 12.0] # Somewhere in Germany, south-west of Berlin\n",
        "\n",
        "query = box.query(City.location.nearest_neighbor(query_location, 15)).build()\n",
        "results = query.find_with_scores()\n",
        "\n",
        "print(f\"Found {len(results)} objects\")\n",
        "for i, result in enumerate(results):\n",
        "    capital, score = result\n",
        "    print(f\"{i + 1}. Capital: {capital.name}, Score: {score}\")\n"
      ],
      "metadata": {
        "colab": {
          "base_uri": "https://localhost:8080/"
        },
        "id": "Bvg1y9QrzDRy",
        "outputId": "2ceeeae6-e4ee-406c-a316-0600ba6af7da"
      },
      "execution_count": 7,
      "outputs": [
        {
          "output_type": "stream",
          "name": "stdout",
          "text": [
            "Found 15 objects\n",
            "1. Capital: Berlin, Score: 4.284425735473633\n",
            "2. Capital: Prague, Score: 6.79757022857666\n",
            "3. Capital: Vaduz, Score: 21.034852981567383\n",
            "4. Capital: Copenhagen, Score: 22.188892364501953\n",
            "5. Capital: Vienna, Score: 26.924283981323242\n",
            "6. Capital: Ljubljana, Score: 30.713272094726562\n",
            "7. Capital: Bratislava, Score: 34.21907424926758\n",
            "8. Capital: Luxembourg City, Score: 36.36225891113281\n",
            "9. Capital: Bern, Score: 37.14485549926758\n",
            "10. Capital: Zagreb, Score: 42.739768981933594\n",
            "11. Capital: San Marino, Score: 50.01927185058594\n",
            "12. Capital: Amsterdam, Score: 52.35599899291992\n",
            "13. Capital: Brussels, Score: 58.51890563964844\n",
            "14. Capital: Budapest, Score: 61.829124450683594\n",
            "15. Capital: Monaco, Score: 73.80305480957031\n"
          ]
        }
      ]
    },
    {
      "cell_type": "markdown",
      "source": [
        "##Visualize the results\n",
        "\n",
        "And finally, let's visualize an the search result using the matplotlib:"
      ],
      "metadata": {
        "id": "wowqid_swoBp"
      }
    },
    {
      "cell_type": "code",
      "source": [
        "!pip install matplotlib"
      ],
      "metadata": {
        "colab": {
          "base_uri": "https://localhost:8080/"
        },
        "collapsed": true,
        "id": "re0O1-2lnHrO",
        "outputId": "914e77f7-3e37-4238-bb25-87f1b8e5af87"
      },
      "execution_count": 8,
      "outputs": [
        {
          "output_type": "stream",
          "name": "stdout",
          "text": [
            "Requirement already satisfied: matplotlib in /usr/local/lib/python3.10/dist-packages (3.7.1)\n",
            "Requirement already satisfied: contourpy>=1.0.1 in /usr/local/lib/python3.10/dist-packages (from matplotlib) (1.2.1)\n",
            "Requirement already satisfied: cycler>=0.10 in /usr/local/lib/python3.10/dist-packages (from matplotlib) (0.12.1)\n",
            "Requirement already satisfied: fonttools>=4.22.0 in /usr/local/lib/python3.10/dist-packages (from matplotlib) (4.51.0)\n",
            "Requirement already satisfied: kiwisolver>=1.0.1 in /usr/local/lib/python3.10/dist-packages (from matplotlib) (1.4.5)\n",
            "Requirement already satisfied: numpy>=1.20 in /usr/local/lib/python3.10/dist-packages (from matplotlib) (1.25.2)\n",
            "Requirement already satisfied: packaging>=20.0 in /usr/local/lib/python3.10/dist-packages (from matplotlib) (24.0)\n",
            "Requirement already satisfied: pillow>=6.2.0 in /usr/local/lib/python3.10/dist-packages (from matplotlib) (9.4.0)\n",
            "Requirement already satisfied: pyparsing>=2.3.1 in /usr/local/lib/python3.10/dist-packages (from matplotlib) (3.1.2)\n",
            "Requirement already satisfied: python-dateutil>=2.7 in /usr/local/lib/python3.10/dist-packages (from matplotlib) (2.8.2)\n",
            "Requirement already satisfied: six>=1.5 in /usr/local/lib/python3.10/dist-packages (from python-dateutil>=2.7->matplotlib) (1.16.0)\n"
          ]
        }
      ]
    },
    {
      "cell_type": "markdown",
      "source": [
        "The search results (aka the nearest neighbors) are the blue dots and the search location is the red dot:"
      ],
      "metadata": {
        "id": "OT0IdzEQnsmf"
      }
    },
    {
      "cell_type": "code",
      "source": [
        "import matplotlib.pyplot as plt\n",
        "\n",
        "for result in results:\n",
        "    city = result[0]\n",
        "    lat = city.location[0]\n",
        "    lon = city.location[1]\n",
        "    plt.scatter(lon, lat, color='blue', s=50, alpha=0.8)\n",
        "    plt.annotate(city.name, (lon, lat), textcoords=\"offset points\",\n",
        "                 xytext=(0, -10), ha='center', fontsize=8)\n",
        "\n",
        "plt.scatter(query_location[1], query_location[0], color='red', s=50, alpha=0.8)\n",
        "\n",
        "plt.xlabel('Longitude')\n",
        "plt.ylabel('Latitude')\n",
        "plt.title('Nearest Capitals')\n",
        "\n",
        "plt.show()\n"
      ],
      "metadata": {
        "colab": {
          "base_uri": "https://localhost:8080/",
          "height": 492
        },
        "id": "E8_3SqcCwsHV",
        "outputId": "07bc8643-af10-4778-e0de-67949d795c37"
      },
      "execution_count": 9,
      "outputs": [
        {
          "output_type": "display_data",
          "data": {
            "text/plain": [
              "<Figure size 640x480 with 1 Axes>"
            ],
            "image/png": "[encoded data removed]"
          },
          "metadata": {}
        }
      ]
    },
    {
      "cell_type": "markdown",
      "source": [
        "## Closing remarks\n",
        "\n",
        "Typically, you can leave the Store open while your application runs and never close it. However, for this Jupyter Notebook, we also include a close so you can start from scratch with opening the store again. This avoids opening the same store multiple times."
      ],
      "metadata": {
        "id": "C-jTEeR19Vx0"
      }
    },
    {
      "cell_type": "code",
      "source": [
        "# Uncomment this to close the store, if you want to open it again:\n",
        "# store.close()"
      ],
      "metadata": {
        "id": "DRfBiI60-OvC"
      },
      "execution_count": 10,
      "outputs": []
    }
  ]
}
